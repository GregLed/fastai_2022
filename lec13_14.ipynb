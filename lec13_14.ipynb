{
  "cells": [
    {
      "cell_type": "code",
      "execution_count": 3,
      "metadata": {
        "id": "ntUlTY5Jl8_F"
      },
      "outputs": [],
      "source": [
        "import pickle,gzip,math,os,time,shutil,torch,matplotlib as mpl,numpy as np,matplotlib.pyplot as plt\n",
        "from pathlib import Path\n",
        "from torch import tensor,nn\n",
        "import torch.nn.functional as F\n",
        "from fastcore.test import test_close\n",
        "from urllib.request import urlretrieve\n",
        "from tqdm import tqdm\n",
        "\n",
        "torch.set_printoptions(precision=2, linewidth=140, sci_mode=False)\n",
        "torch.manual_seed(1)\n",
        "mpl.rcParams['image.cmap'] = 'gray'"
      ]
    },
    {
      "cell_type": "code",
      "execution_count": 4,
      "metadata": {
        "id": "ezYsGR0v7rkC"
      },
      "outputs": [],
      "source": [
        "MNIST_URL='https://github.com/mnielsen/neural-networks-and-deep-learning/blob/master/data/mnist.pkl.gz?raw=true'\n",
        "path_data = Path('data')\n",
        "path_data.mkdir(exist_ok=True)\n",
        "path_gz = path_data/'mnist.pkl.gz'\n",
        "\n",
        "\n",
        "if not path_gz.exists(): urlretrieve(MNIST_URL, path_gz)"
      ]
    },
    {
      "cell_type": "code",
      "execution_count": 5,
      "metadata": {
        "id": "x1jAoouV7TCG"
      },
      "outputs": [],
      "source": [
        "with gzip.open(path_gz, 'rb') as f:\n",
        "     ((x_train, y_train), (x_valid, y_valid), _) = pickle.load(f, encoding='latin-1')\n",
        "\n",
        "x_train, y_train, x_valid, y_valid = map(tensor, [x_train, y_train, x_valid, y_valid])"
      ]
    },
    {
      "cell_type": "markdown",
      "metadata": {
        "id": "GfC6j_Ha8LMP"
      },
      "source": [
        "# Initial setup"
      ]
    },
    {
      "cell_type": "code",
      "execution_count": 6,
      "metadata": {
        "colab": {
          "base_uri": "https://localhost:8080/"
        },
        "id": "20bYFPWg7i--",
        "outputId": "e01d6362-5e54-4f06-9880-4cc85326b7ce"
      },
      "outputs": [
        {
          "name": "stdout",
          "output_type": "stream",
          "text": [
            "50000 784\n"
          ]
        }
      ],
      "source": [
        "n,m = x_train.shape\n",
        "c = y_train.max()+1\n",
        "nh = 50\n",
        "\n",
        "print(n, m)"
      ]
    },
    {
      "cell_type": "code",
      "execution_count": 7,
      "metadata": {
        "id": "9MlF7E9o8Pao"
      },
      "outputs": [],
      "source": [
        "class Model(nn.Module):\n",
        "    def __init__(self, n_in, nh, n_out):\n",
        "        super().__init__()\n",
        "        self.layers = [nn.Linear(n_in,nh), nn.ReLU(), nn.Linear(nh,n_out)]\n",
        "\n",
        "    def __call__(self, x):\n",
        "        for l in self.layers: x = l(x)\n",
        "        return x"
      ]
    },
    {
      "cell_type": "code",
      "execution_count": 8,
      "metadata": {
        "colab": {
          "base_uri": "https://localhost:8080/"
        },
        "id": "_ATkEg_a8UKJ",
        "outputId": "184aae34-6e45-4967-fdc2-7c7582e408cb"
      },
      "outputs": [
        {
          "data": {
            "text/plain": [
              "torch.Size([50000, 10])"
            ]
          },
          "execution_count": 8,
          "metadata": {},
          "output_type": "execute_result"
        }
      ],
      "source": [
        "model = Model(m, nh, 10)\n",
        "pred = model(x_train)\n",
        "pred.shape"
      ]
    },
    {
      "cell_type": "code",
      "execution_count": 10,
      "metadata": {},
      "outputs": [
        {
          "data": {
            "text/plain": [
              "[Linear(in_features=784, out_features=50, bias=True),\n",
              " ReLU(),\n",
              " Linear(in_features=50, out_features=10, bias=True)]"
            ]
          },
          "execution_count": 10,
          "metadata": {},
          "output_type": "execute_result"
        }
      ],
      "source": [
        "model.layers"
      ]
    },
    {
      "cell_type": "markdown",
      "metadata": {
        "id": "n0By57x9-LQG"
      },
      "source": [
        "# Cross entropy loss"
      ]
    },
    {
      "cell_type": "code",
      "execution_count": 11,
      "metadata": {
        "colab": {
          "base_uri": "https://localhost:8080/"
        },
        "id": "zxE4a_oG-P-I",
        "outputId": "e0e1a3b1-75d2-453d-a3e1-e0df61ef02c3"
      },
      "outputs": [
        {
          "data": {
            "text/plain": [
              "torch.Size([50000, 1])"
            ]
          },
          "execution_count": 11,
          "metadata": {},
          "output_type": "execute_result"
        }
      ],
      "source": [
        "pred.exp().sum(axis=-1, keepdim=True).shape"
      ]
    },
    {
      "cell_type": "code",
      "execution_count": 12,
      "metadata": {
        "colab": {
          "base_uri": "https://localhost:8080/"
        },
        "id": "hFKN31E8-PAm",
        "outputId": "1c8c7869-e742-4ffd-f961-3f883ddaec94"
      },
      "outputs": [
        {
          "data": {
            "text/plain": [
              "torch.Size([50000, 10])"
            ]
          },
          "execution_count": 12,
          "metadata": {},
          "output_type": "execute_result"
        }
      ],
      "source": [
        "prob = (pred.exp() / pred.exp().sum(axis=-1, keepdim=True))\n",
        "prob.shape"
      ]
    },
    {
      "cell_type": "code",
      "execution_count": 13,
      "metadata": {
        "colab": {
          "base_uri": "https://localhost:8080/"
        },
        "id": "9Q5zManl-NHe",
        "outputId": "3132d3ae-7ac5-4660-fbef-0b32a998c085"
      },
      "outputs": [
        {
          "data": {
            "text/plain": [
              "tensor([[-2.37, -2.49, -2.36,  ..., -2.31, -2.28, -2.22],\n",
              "        [-2.37, -2.44, -2.44,  ..., -2.27, -2.26, -2.16],\n",
              "        [-2.48, -2.33, -2.28,  ..., -2.30, -2.30, -2.27],\n",
              "        ...,\n",
              "        [-2.33, -2.52, -2.34,  ..., -2.31, -2.21, -2.16],\n",
              "        [-2.38, -2.38, -2.33,  ..., -2.29, -2.26, -2.17],\n",
              "        [-2.33, -2.55, -2.36,  ..., -2.29, -2.27, -2.16]], grad_fn=<LogBackward0>)"
            ]
          },
          "execution_count": 13,
          "metadata": {},
          "output_type": "execute_result"
        }
      ],
      "source": [
        "log_prob = prob.log()\n",
        "log_prob"
      ]
    },
    {
      "cell_type": "code",
      "execution_count": 14,
      "metadata": {
        "id": "OFvztwxhDQFn"
      },
      "outputs": [],
      "source": [
        "def log_softmax(x):\n",
        "    return (x.exp()/(x.exp().sum(-1,keepdim=True))).log()"
      ]
    },
    {
      "cell_type": "code",
      "execution_count": 15,
      "metadata": {
        "id": "S46QTM_ODqxY"
      },
      "outputs": [],
      "source": [
        "# we can use logarithm property to split division into deduction\n",
        "def log_softmax(x):\n",
        "    return x - x.exp().sum(-1,keepdim=True).log()"
      ]
    },
    {
      "cell_type": "code",
      "execution_count": 16,
      "metadata": {
        "id": "3G3YIgixD5b-"
      },
      "outputs": [],
      "source": [
        "# denominator can be problematic because of floating numbers are not stable\n",
        "# for big numbers. We can find max for each row and deduct it from other vals\n",
        "def logsumexp(x):\n",
        "    m = x.max(-1).values\n",
        "    return m + (x-m[:,None]).exp().sum(-1).log()"
      ]
    },
    {
      "cell_type": "code",
      "execution_count": 17,
      "metadata": {
        "colab": {
          "base_uri": "https://localhost:8080/"
        },
        "id": "ePNgYRBjFXh2",
        "outputId": "e743c0c6-5b1b-428a-d084-f74ffce4b6e2"
      },
      "outputs": [
        {
          "data": {
            "text/plain": [
              "tensor([0.10, 0.14, 0.21,  ..., 0.14, 0.11, 0.14], grad_fn=<MaxBackward0>)"
            ]
          },
          "execution_count": 17,
          "metadata": {},
          "output_type": "execute_result"
        }
      ],
      "source": [
        "pred.max(-1).values"
      ]
    },
    {
      "cell_type": "code",
      "execution_count": 18,
      "metadata": {
        "id": "LCfZUPEpFYAN"
      },
      "outputs": [],
      "source": [
        "def log_softmax(x):\n",
        "    return x - x.logsumexp(-1,keepdim=True)"
      ]
    },
    {
      "cell_type": "code",
      "execution_count": 19,
      "metadata": {
        "colab": {
          "base_uri": "https://localhost:8080/"
        },
        "id": "9ijBkaZOFnhy",
        "outputId": "d6ddcf84-a93d-4ec4-cc4f-8478ea9546a3"
      },
      "outputs": [
        {
          "data": {
            "text/plain": [
              "tensor([[-2.37, -2.49, -2.36,  ..., -2.31, -2.28, -2.22],\n",
              "        [-2.37, -2.44, -2.44,  ..., -2.27, -2.26, -2.16],\n",
              "        [-2.48, -2.33, -2.28,  ..., -2.30, -2.30, -2.27],\n",
              "        ...,\n",
              "        [-2.33, -2.52, -2.34,  ..., -2.31, -2.21, -2.16],\n",
              "        [-2.38, -2.38, -2.33,  ..., -2.29, -2.26, -2.17],\n",
              "        [-2.33, -2.55, -2.36,  ..., -2.29, -2.27, -2.16]], grad_fn=<SubBackward0>)"
            ]
          },
          "execution_count": 19,
          "metadata": {},
          "output_type": "execute_result"
        }
      ],
      "source": [
        "test_close(logsumexp(pred), pred.logsumexp(-1))\n",
        "log_sm_pred = log_softmax(pred)\n",
        "log_sm_pred"
      ]
    },
    {
      "cell_type": "markdown",
      "metadata": {
        "id": "HbAglCqqdQZB"
      },
      "source": [
        "# Cross entropy"
      ]
    },
    {
      "cell_type": "code",
      "execution_count": 20,
      "metadata": {
        "colab": {
          "base_uri": "https://localhost:8080/"
        },
        "id": "uk2zR-oadmYv",
        "outputId": "754731d1-20e2-4d5b-93d6-d1b1a4b94fbb"
      },
      "outputs": [
        {
          "data": {
            "text/plain": [
              "tensor(2.30, grad_fn=<NegBackward0>)"
            ]
          },
          "execution_count": 20,
          "metadata": {},
          "output_type": "execute_result"
        }
      ],
      "source": [
        "-log_sm_pred[range(y_train.shape[0]), y_train].mean()"
      ]
    },
    {
      "cell_type": "code",
      "execution_count": 21,
      "metadata": {
        "colab": {
          "base_uri": "https://localhost:8080/"
        },
        "id": "H1pPhhC6FpYW",
        "outputId": "c3e79a57-c1a5-458b-ad72-c61106613e52"
      },
      "outputs": [
        {
          "data": {
            "text/plain": [
              "tensor(2.30, grad_fn=<NegBackward0>)"
            ]
          },
          "execution_count": 21,
          "metadata": {},
          "output_type": "execute_result"
        }
      ],
      "source": [
        "# Note that original math formula uses sum and we use mean to conrol the scale.\n",
        "# Mathematically both have the same max or min and sum is just divided by a\n",
        "# constant which is n-examples (targets.shape[0])\n",
        "def nll(log_prob, targets):\n",
        "    return -log_prob[range(targets.shape[0]), targets].mean()\n",
        "\n",
        "loss = nll(log_sm_pred, y_train)\n",
        "loss"
      ]
    },
    {
      "cell_type": "code",
      "execution_count": 23,
      "metadata": {
        "id": "leFJqXBvd8cW"
      },
      "outputs": [],
      "source": [
        "# Pytorch implementation\n",
        "# Note that nll_loss takes as input log probabilities and cross_entropy just model outputs\n",
        "\n",
        "test_close(F.nll_loss(F.log_softmax(pred, -1), y_train), loss, 1e-3)\n",
        "test_close(F.cross_entropy(pred, y_train), loss, 1e-3)"
      ]
    },
    {
      "cell_type": "markdown",
      "metadata": {
        "id": "NfR7za1wk7-q"
      },
      "source": [
        "# Basic training loop"
      ]
    },
    {
      "cell_type": "code",
      "execution_count": 26,
      "metadata": {
        "id": "oIhaec5Qks2U"
      },
      "outputs": [],
      "source": [
        "loss_func = F.cross_entropy"
      ]
    },
    {
      "cell_type": "code",
      "execution_count": 38,
      "metadata": {
        "colab": {
          "base_uri": "https://localhost:8080/"
        },
        "id": "I06YPG11k-mv",
        "outputId": "882f1958-d81d-4238-c8e5-a44f428152e3"
      },
      "outputs": [
        {
          "data": {
            "text/plain": [
              "(tensor([ 1.23, -2.22, -1.14,  4.55, -3.37,  5.28, -0.25, -0.78, -0.32, -0.73], grad_fn=<SelectBackward0>),\n",
              " torch.Size([500, 10]))"
            ]
          },
          "execution_count": 38,
          "metadata": {},
          "output_type": "execute_result"
        }
      ],
      "source": [
        "bs=500                  # batch size\n",
        "lr = 0.5               # learning rate\n",
        "epochs = 3             # how many epochs to train for\n",
        "n = y_train.shape[0]\n",
        "\n",
        "xb = x_train[0:bs]     # a mini-batch from x\n",
        "yb = y_train[0:bs]\n",
        "\n",
        "preds = model(xb)      # predictions\n",
        "preds[0], preds.shape"
      ]
    },
    {
      "cell_type": "code",
      "execution_count": 39,
      "metadata": {
        "colab": {
          "base_uri": "https://localhost:8080/"
        },
        "id": "zwJk-pFBlDoO",
        "outputId": "efe9d272-e46c-4eba-e1e7-aee048db561b"
      },
      "outputs": [
        {
          "data": {
            "text/plain": [
              "tensor(0.33, grad_fn=<NllLossBackward0>)"
            ]
          },
          "execution_count": 39,
          "metadata": {},
          "output_type": "execute_result"
        }
      ],
      "source": [
        "loss_func(preds, yb)"
      ]
    },
    {
      "cell_type": "code",
      "execution_count": 40,
      "metadata": {
        "colab": {
          "base_uri": "https://localhost:8080/"
        },
        "id": "EOQyrAGGlJQf",
        "outputId": "c7626661-f51e-49bf-d07a-d937916eaa3a"
      },
      "outputs": [
        {
          "data": {
            "text/plain": [
              "tensor([5, 0, 4, 1, 9, 2, 1, 3, 1, 4, 3, 5, 3, 6, 1, 7, 2, 8, 6, 9, 4, 0, 9, 1, 5, 2, 4, 3, 7, 7, 3, 8, 6, 7, 0, 5, 6, 0, 7, 6, 1, 8, 7, 9,\n",
              "        3, 9, 8, 5, 5, 3, 3, 0, 7, 4, 9, 8, 0, 9, 4, 1, 4, 4, 6, 0, 6, 5, 6, 1, 0, 0, 5, 7, 1, 6, 3, 0, 2, 1, 1, 7, 0, 0, 2, 6, 7, 8, 3, 9,\n",
              "        0, 4, 6, 7, 4, 6, 8, 0, 7, 8, 3, 1, 5, 7, 1, 7, 1, 1, 6, 3, 0, 6, 9, 3, 1, 1, 0, 4, 9, 2, 0, 0, 7, 0, 2, 7, 1, 8, 6, 4, 1, 6, 3, 4,\n",
              "        3, 9, 4, 3, 3, 8, 5, 4, 7, 7, 4, 9, 8, 5, 8, 6, 2, 3, 6, 6, 1, 9, 9, 6, 0, 3, 7, 2, 8, 2, 9, 4, 4, 6, 4, 9, 7, 0, 9, 2, 7, 5, 1, 5,\n",
              "        9, 1, 0, 3, 7, 3, 5, 9, 1, 7, 6, 2, 8, 2, 2, 5, 0, 7, 4, 9, 7, 8, 3, 2, 1, 1, 5, 3, 6, 1, 0, 3, 1, 0, 0, 1, 9, 2, 7, 3, 0, 4, 6, 5,\n",
              "        2, 6, 4, 7, 7, 8, 9, 9, 5, 0, 7, 1, 6, 2, 0, 3, 5, 4, 6, 5, 8, 6, 3, 7, 5, 8, 0, 9, 1, 0, 6, 1, 2, 2, 5, 3, 6, 4, 7, 5, 0, 6, 5, 7,\n",
              "        4, 8, 5, 9, 7, 1, 1, 4, 4, 5, 6, 4, 1, 2, 6, 3, 9, 3, 5, 0, 5, 9, 6, 5, 7, 4, 1, 3, 4, 0, 4, 8, 0, 4, 3, 6, 8, 7, 6, 0, 7, 7, 5, 7,\n",
              "        2, 1, 1, 6, 8, 9, 4, 1, 5, 2, 2, 9, 0, 3, 9, 6, 7, 2, 0, 3, 5, 4, 3, 6, 5, 8, 9, 5, 4, 7, 4, 2, 7, 3, 4, 8, 9, 1, 3, 2, 8, 7, 9, 1,\n",
              "        8, 7, 4, 1, 3, 1, 1, 0, 2, 3, 9, 4, 9, 2, 1, 6, 8, 4, 1, 7, 4, 4, 4, 2, 5, 7, 2, 4, 4, 2, 1, 9, 7, 2, 8, 7, 6, 9, 2, 2, 3, 8, 5, 6,\n",
              "        5, 1, 1, 0, 2, 6, 4, 5, 5, 3, 5, 5, 1, 9, 2, 7, 4, 4, 6, 8, 1, 5, 5, 9, 5, 6, 7, 9, 5, 3, 7, 0, 9, 0, 6, 6, 2, 3, 9, 0, 7, 5, 4, 8,\n",
              "        0, 9, 4, 1, 1, 8, 0, 1, 2, 6, 1, 0, 3, 0, 1, 1, 8, 2, 0, 3, 9, 4, 0, 5, 0, 6, 1, 7, 7, 8, 5, 9, 2, 0, 5, 1, 2, 2, 7, 3, 5, 4, 9, 7,\n",
              "        1, 8, 5, 9, 6, 0, 3, 1, 1, 2, 0, 3, 5, 2, 6, 8])"
            ]
          },
          "execution_count": 40,
          "metadata": {},
          "output_type": "execute_result"
        }
      ],
      "source": [
        "# To get prediction for each example we can use argmax across columns\n",
        "preds.argmax(dim=1)"
      ]
    },
    {
      "cell_type": "code",
      "execution_count": 41,
      "metadata": {
        "colab": {
          "base_uri": "https://localhost:8080/"
        },
        "id": "vzarbeR-lPne",
        "outputId": "8151b4d7-911b-4d39-cd27-9247531ffd46"
      },
      "outputs": [
        {
          "data": {
            "text/plain": [
              "tensor(0.91)"
            ]
          },
          "execution_count": 41,
          "metadata": {},
          "output_type": "execute_result"
        }
      ],
      "source": [
        "def accuracy(out, yb): return (out.argmax(dim=1)==yb).float().mean()\n",
        "def report(loss, preds, yb): print(f'{loss:.2f}, {accuracy(preds, yb):.2f}')\n",
        "\n",
        "accuracy(preds, yb)"
      ]
    },
    {
      "cell_type": "code",
      "execution_count": 42,
      "metadata": {
        "colab": {
          "base_uri": "https://localhost:8080/"
        },
        "id": "ouqvO_Mglgyx",
        "outputId": "ff521a4b-7180-4e55-b4da-59b3bfbfa5ef"
      },
      "outputs": [
        {
          "name": "stdout",
          "output_type": "stream",
          "text": [
            "0.33, 0.91\n"
          ]
        }
      ],
      "source": [
        "report(loss_func(preds, yb), preds, yb)"
      ]
    },
    {
      "cell_type": "code",
      "execution_count": 43,
      "metadata": {
        "colab": {
          "base_uri": "https://localhost:8080/"
        },
        "id": "oUQowvMVliu3",
        "outputId": "77910385-fcf4-4d18-9ef1-63118809387e"
      },
      "outputs": [
        {
          "name": "stderr",
          "output_type": "stream",
          "text": [
            "100%|██████████| 100/100 [00:14<00:00,  6.88it/s]\n"
          ]
        },
        {
          "name": "stdout",
          "output_type": "stream",
          "text": [
            "0.46, 0.88\n"
          ]
        },
        {
          "name": "stderr",
          "output_type": "stream",
          "text": [
            "100%|██████████| 100/100 [00:16<00:00,  5.90it/s]\n"
          ]
        },
        {
          "name": "stdout",
          "output_type": "stream",
          "text": [
            "0.37, 0.90\n"
          ]
        },
        {
          "name": "stderr",
          "output_type": "stream",
          "text": [
            "100%|██████████| 100/100 [00:09<00:00, 10.86it/s]"
          ]
        },
        {
          "name": "stdout",
          "output_type": "stream",
          "text": [
            "0.31, 0.92\n"
          ]
        },
        {
          "name": "stderr",
          "output_type": "stream",
          "text": [
            "\n"
          ]
        }
      ],
      "source": [
        "model = Model(m, nh, 10)\n",
        "\n",
        "for j in range(epochs):\n",
        "    for i in tqdm(range(0, n, bs)):\n",
        "        # get slice of data\n",
        "        s = slice(i, min(i+bs,n))\n",
        "        xb = x_train[s]\n",
        "        yb = y_train[s]\n",
        "\n",
        "        # calculate predictions, loss and gradients\n",
        "        pred = model(xb)\n",
        "        loss = loss_func(pred, yb)\n",
        "        loss.backward()\n",
        "\n",
        "        # update weights of the model\n",
        "        with torch.no_grad():\n",
        "            for layer in model.layers:\n",
        "                if hasattr(layer, 'weight'):\n",
        "                    layer.weight -= lr * layer.weight.grad\n",
        "                    layer.bias -= lr * layer.bias.grad\n",
        "                    layer.weight.grad.zero_()\n",
        "                    layer.bias.grad.zero_()\n",
        "\n",
        "    report(loss, pred, yb)"
      ]
    },
    {
      "cell_type": "code",
      "execution_count": 44,
      "metadata": {
        "colab": {
          "base_uri": "https://localhost:8080/"
        },
        "id": "qJci0CIm3NoJ",
        "outputId": "1792368b-1d8b-4cca-f6cb-fd673fd1e657"
      },
      "outputs": [
        {
          "data": {
            "text/plain": [
              "torch.Size([500, 10])"
            ]
          },
          "execution_count": 44,
          "metadata": {},
          "output_type": "execute_result"
        }
      ],
      "source": [
        "pred.shape"
      ]
    },
    {
      "cell_type": "markdown",
      "metadata": {
        "id": "zHo9FFK5uM0m"
      },
      "source": [
        "# DataLoader and Sampler"
      ]
    },
    {
      "cell_type": "code",
      "execution_count": null,
      "metadata": {
        "id": "4Da2qQraul-D"
      },
      "outputs": [],
      "source": [
        "a = [(1,2), (3,4), (5,6), (7,8)]\n",
        "x, y = zip(*a)\n"
      ]
    },
    {
      "cell_type": "code",
      "execution_count": null,
      "metadata": {
        "colab": {
          "base_uri": "https://localhost:8080/"
        },
        "id": "JwkQIAOBu3hD",
        "outputId": "c504b102-bcdc-4501-d76c-8005c082b9bf"
      },
      "outputs": [
        {
          "data": {
            "text/plain": [
              "((1, 3, 5, 7), (2, 4, 6, 8))"
            ]
          },
          "execution_count": 29,
          "metadata": {},
          "output_type": "execute_result"
        }
      ],
      "source": [
        "x, y"
      ]
    },
    {
      "cell_type": "code",
      "execution_count": null,
      "metadata": {
        "colab": {
          "base_uri": "https://localhost:8080/"
        },
        "id": "POio2Dx5yUAY",
        "outputId": "45ca344b-ffa6-48a1-88a9-5c07f4b57861"
      },
      "outputs": [
        {
          "data": {
            "text/plain": [
              "[tensor(1), tensor(3), tensor(5), tensor(7)]"
            ]
          },
          "execution_count": 30,
          "metadata": {},
          "output_type": "execute_result"
        }
      ],
      "source": [
        "x = [torch.tensor(i) for i in x]\n",
        "x"
      ]
    },
    {
      "cell_type": "code",
      "execution_count": null,
      "metadata": {
        "colab": {
          "base_uri": "https://localhost:8080/"
        },
        "id": "2bBjc_Zmu4Bk",
        "outputId": "cf966a31-bf5e-4639-aaf1-80d864e0db19"
      },
      "outputs": [
        {
          "data": {
            "text/plain": [
              "tensor([1, 3, 5, 7])"
            ]
          },
          "execution_count": 31,
          "metadata": {},
          "output_type": "execute_result"
        }
      ],
      "source": [
        "torch.stack(x)"
      ]
    },
    {
      "cell_type": "markdown",
      "metadata": {
        "id": "DbsOxxadzSGe"
      },
      "source": [
        "# zip vs zip_longest"
      ]
    },
    {
      "cell_type": "code",
      "execution_count": null,
      "metadata": {
        "colab": {
          "base_uri": "https://localhost:8080/"
        },
        "id": "jn_r0wEoyF2U",
        "outputId": "8600c938-a8ba-4cf8-c875-16b844259836"
      },
      "outputs": [
        {
          "data": {
            "text/plain": [
              "[(1, 5), (2, 6), (3, 7)]"
            ]
          },
          "execution_count": 33,
          "metadata": {},
          "output_type": "execute_result"
        }
      ],
      "source": [
        "a = (1,2,3,4)\n",
        "b = (5,6,7)\n",
        "\n",
        "list(zip(a,b))\n"
      ]
    },
    {
      "cell_type": "code",
      "execution_count": null,
      "metadata": {
        "id": "x8zaJHaJzE8t"
      },
      "outputs": [],
      "source": [
        "from itertools import zip_longest"
      ]
    },
    {
      "cell_type": "code",
      "execution_count": null,
      "metadata": {
        "colab": {
          "base_uri": "https://localhost:8080/"
        },
        "id": "SejQkYPmzJyV",
        "outputId": "a4deb06f-6d67-4cea-99fe-fa74c576df25"
      },
      "outputs": [
        {
          "data": {
            "text/plain": [
              "[(1, 5), (2, 6), (3, 7), (4, None)]"
            ]
          },
          "execution_count": 36,
          "metadata": {},
          "output_type": "execute_result"
        }
      ],
      "source": [
        "list(zip_longest(a, b))"
      ]
    },
    {
      "cell_type": "code",
      "execution_count": null,
      "metadata": {
        "colab": {
          "base_uri": "https://localhost:8080/"
        },
        "id": "6qiaQTeIzMN8",
        "outputId": "ecd23140-1bf5-4ae8-f5fa-6d6182cc473b"
      },
      "outputs": [
        {
          "name": "stdout",
          "output_type": "stream",
          "text": [
            "anscombe.json\t\t     california_housing_train.csv  mnist_train_small.csv\n",
            "california_housing_test.csv  mnist_test.csv\t\t   README.md\n"
          ]
        }
      ],
      "source": [
        "! ls ./sample_data/"
      ]
    },
    {
      "cell_type": "code",
      "execution_count": null,
      "metadata": {
        "id": "79oXKGAEzkU2"
      },
      "outputs": [],
      "source": []
    }
  ],
  "metadata": {
    "colab": {
      "authorship_tag": "ABX9TyPl8+OyfvrGSLLFPm1n/53W",
      "include_colab_link": true,
      "provenance": []
    },
    "kernelspec": {
      "display_name": "Python 3",
      "name": "python3"
    },
    "language_info": {
      "codemirror_mode": {
        "name": "ipython",
        "version": 3
      },
      "file_extension": ".py",
      "mimetype": "text/x-python",
      "name": "python",
      "nbconvert_exporter": "python",
      "pygments_lexer": "ipython3",
      "version": "3.10.12"
    }
  },
  "nbformat": 4,
  "nbformat_minor": 0
}
